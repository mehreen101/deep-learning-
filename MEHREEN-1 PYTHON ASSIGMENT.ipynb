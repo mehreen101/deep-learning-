{
 "cells": [
  {
   "cell_type": "code",
   "execution_count": 8,
   "id": "61fcf148",
   "metadata": {
    "scrolled": true
   },
   "outputs": [
    {
     "name": "stdout",
     "output_type": "stream",
     "text": [
      "2401\n"
     ]
    }
   ],
   "source": [
    "Q#1,\n",
    "\n",
    "#what is 7 to power of 4\n",
    "\n",
    "a = 7\n",
    "b = 4\n",
    "c = (a**b)\n",
    "print(c);"
   ]
  },
  {
   "cell_type": "code",
   "execution_count": null,
   "id": "e2f94c5d",
   "metadata": {},
   "outputs": [],
   "source": [
    "Q#2,\n",
    "\n",
    "#split this string into a list:\n",
    "\n",
    "#M = \"Hi there sam!\""
   ]
  },
  {
   "cell_type": "code",
   "execution_count": 28,
   "id": "44c92959",
   "metadata": {},
   "outputs": [
    {
     "data": {
      "text/plain": [
       "'Hi there sam!'"
      ]
     },
     "execution_count": 28,
     "metadata": {},
     "output_type": "execute_result"
    }
   ],
   "source": [
    "M = \"Hi there sam!\"\n",
    "M"
   ]
  },
  {
   "cell_type": "code",
   "execution_count": 29,
   "id": "35675b00",
   "metadata": {
    "scrolled": true
   },
   "outputs": [
    {
     "data": {
      "text/plain": [
       "['Hi', 'there', 'sam!']"
      ]
     },
     "execution_count": 29,
     "metadata": {},
     "output_type": "execute_result"
    }
   ],
   "source": [
    "M. split()"
   ]
  },
  {
   "cell_type": "code",
   "execution_count": null,
   "id": "e9c552a6",
   "metadata": {},
   "outputs": [],
   "source": [
    "Q#3\n",
    "\n",
    "# into a list:\n",
    "\n",
    "#z = \" Hi there dad!\""
   ]
  },
  {
   "cell_type": "code",
   "execution_count": 40,
   "id": "6ef13f4e",
   "metadata": {},
   "outputs": [
    {
     "data": {
      "text/plain": [
       "'Hi there dad!'"
      ]
     },
     "execution_count": 40,
     "metadata": {},
     "output_type": "execute_result"
    }
   ],
   "source": [
    "z = \"Hi there dad!\"\n",
    "z"
   ]
  },
  {
   "cell_type": "code",
   "execution_count": 39,
   "id": "25791f7a",
   "metadata": {},
   "outputs": [
    {
     "data": {
      "text/plain": [
       "['Hi', 'there', 'dad!']"
      ]
     },
     "execution_count": 39,
     "metadata": {},
     "output_type": "execute_result"
    }
   ],
   "source": [
    "z.split()"
   ]
  },
  {
   "cell_type": "code",
   "execution_count": null,
   "id": "45f6d929",
   "metadata": {},
   "outputs": [],
   "source": [
    "Q#4\n",
    "\n",
    "planet = \"Earth\"\n",
    "\n",
    "diameter = 12742"
   ]
  },
  {
   "cell_type": "code",
   "execution_count": 3,
   "id": "2da0ab81",
   "metadata": {},
   "outputs": [],
   "source": [
    "planet = \"Earth\"\n",
    "Diameter = \"12742\""
   ]
  },
  {
   "cell_type": "code",
   "execution_count": 4,
   "id": "2f9e6b55",
   "metadata": {},
   "outputs": [
    {
     "name": "stdout",
     "output_type": "stream",
     "text": [
      "the diameter of Earth is 12742 kilometers\n"
     ]
    }
   ],
   "source": [
    "print(\"the diameter of {} is {} kilometers\".format(planet,Diameter))"
   ]
  },
  {
   "cell_type": "code",
   "execution_count": null,
   "id": "e7aeacfd",
   "metadata": {},
   "outputs": [],
   "source": [
    "Q#5\n",
    "\n",
    "list = [1,2,[3,4],[5,[100,200,['hello']],23,11],1,7]"
   ]
  },
  {
   "cell_type": "code",
   "execution_count": 7,
   "id": "e9f53ea8",
   "metadata": {},
   "outputs": [
    {
     "data": {
      "text/plain": [
       "[1, 2, [3, 4], [5, [100, 200, ['hello']], 23, 11], 1, 7]"
      ]
     },
     "execution_count": 7,
     "metadata": {},
     "output_type": "execute_result"
    }
   ],
   "source": [
    "list = [1,2,[3,4],[5,[100,200,['hello']],23,11],1,7]\n",
    "\n",
    "list"
   ]
  },
  {
   "cell_type": "code",
   "execution_count": 8,
   "id": "91d0184a",
   "metadata": {},
   "outputs": [
    {
     "data": {
      "text/plain": [
       "['hello']"
      ]
     },
     "execution_count": 8,
     "metadata": {},
     "output_type": "execute_result"
    }
   ],
   "source": [
    "list[3][1][2]\n"
   ]
  },
  {
   "cell_type": "code",
   "execution_count": null,
   "id": "38a6216a",
   "metadata": {},
   "outputs": [],
   "source": [
    "Q#5\n",
    "\n",
    " d = {'k1':[1,2,3,{'tricky':['oh','man','inception',{'target':[1,2,3,'hello']}]}]}"
   ]
  },
  {
   "cell_type": "code",
   "execution_count": 15,
   "id": "09b47231",
   "metadata": {
    "scrolled": true
   },
   "outputs": [
    {
     "data": {
      "text/plain": [
       "'hello'"
      ]
     },
     "execution_count": 15,
     "metadata": {},
     "output_type": "execute_result"
    }
   ],
   "source": [
    "d['k1'][3]['tricky'][3]['target'][3]"
   ]
  },
  {
   "cell_type": "code",
   "execution_count": null,
   "id": "e492278e",
   "metadata": {},
   "outputs": [],
   "source": [
    "Q#6\n",
    "\n",
    "\n",
    "lists and tuples are sequence data types that can store a collection of items\n",
    "Each item stored in a list or a tuple can be of any data type.\n",
    "The main difference between lists and tuples is the fact that lists are mutable whereas tuples are immutable."
   ]
  },
  {
   "cell_type": "code",
   "execution_count": null,
   "id": "fbc746d0",
   "metadata": {},
   "outputs": [],
   "source": [
    "Q#7\n",
    "\n",
    "Create a function that grabs the email website domain from a string in the form:"
   ]
  },
  {
   "cell_type": "code",
   "execution_count": 16,
   "id": "d94988f1",
   "metadata": {},
   "outputs": [
    {
     "data": {
      "text/plain": [
       "['user@domain.com']"
      ]
     },
     "execution_count": 16,
     "metadata": {},
     "output_type": "execute_result"
    }
   ],
   "source": [
    "def domainGet(email):\n",
    "    return email.split()\n",
    "domainGet('user@domain.com')"
   ]
  },
  {
   "cell_type": "code",
   "execution_count": null,
   "id": "d9288193",
   "metadata": {},
   "outputs": [],
   "source": [
    "Q#8\n",
    "\n",
    "Create a basic function that returns True if the word 'dog' is contained in the input string. \n",
    "Don't worry about edge cases like a punctuation being attached to the word dog, but do account for capitalization."
   ]
  },
  {
   "cell_type": "code",
   "execution_count": 17,
   "id": "c74b5d87",
   "metadata": {},
   "outputs": [
    {
     "data": {
      "text/plain": [
       "True"
      ]
     },
     "execution_count": 17,
     "metadata": {},
     "output_type": "execute_result"
    }
   ],
   "source": [
    "def getDog(sentence):\n",
    "    return \"dog\" in sentence\n",
    "getDog('is there a dog here')"
   ]
  },
  {
   "cell_type": "code",
   "execution_count": null,
   "id": "58784a9c",
   "metadata": {},
   "outputs": [],
   "source": [
    "Q#9\n",
    "\n",
    "Create a function that counts the number of times the word \"dog\" occurs in a string. Again ignore edge cases. "
   ]
  },
  {
   "cell_type": "code",
   "execution_count": 20,
   "id": "c7e138ce",
   "metadata": {},
   "outputs": [
    {
     "data": {
      "text/plain": [
       "2"
      ]
     },
     "execution_count": 20,
     "metadata": {},
     "output_type": "execute_result"
    }
   ],
   "source": [
    "def countdog(st):\n",
    "    count = 0\n",
    "    for word in st.split():\n",
    "        if word == \"dog\":\n",
    "            count = count + 1\n",
    "    return(count)\n",
    "countdog('this dog run faster than the other dog dude!')"
   ]
  },
  {
   "cell_type": "code",
   "execution_count": null,
   "id": "627de296",
   "metadata": {},
   "outputs": [],
   "source": [
    "Q#10\n",
    "\n",
    "Use lambda expressions and the filter() function to filter out words from a list that don't start with the letter 's'.\n"
   ]
  },
  {
   "cell_type": "code",
   "execution_count": null,
   "id": "a13ffb4c",
   "metadata": {},
   "outputs": [],
   "source": [
    "seq = ['soup','dog','salad','cat','great']\n"
   ]
  },
  {
   "cell_type": "code",
   "execution_count": 21,
   "id": "a16d16dc",
   "metadata": {},
   "outputs": [
    {
     "data": {
      "text/plain": [
       "['dog', 'cat', 'great']"
      ]
     },
     "execution_count": 21,
     "metadata": {},
     "output_type": "execute_result"
    }
   ],
   "source": [
    "seq = ['soup','dog','salad','cat','great']\n",
    "\n",
    "list(filter(lambda word: word [0]!='s',seq))"
   ]
  },
  {
   "cell_type": "code",
   "execution_count": null,
   "id": "3a8cd517",
   "metadata": {},
   "outputs": [],
   "source": [
    "Q#11"
   ]
  },
  {
   "cell_type": "code",
   "execution_count": 3,
   "id": "e438d8d0",
   "metadata": {},
   "outputs": [],
   "source": [
    "def caught_speeding(speed, is_birthday):\n",
    "    \n",
    "    if is_birthday:\n",
    "        speeding = speed -5\n",
    "    else:\n",
    "        speeding = speed\n",
    "        \n",
    "    if speeding > 80:\n",
    "        return 'Big Ticket'\n",
    "    else speeding > 60:\n",
    "        return 'Small Ticket'\n",
    "    else:\n",
    "        return 'No Ticket'"
   ]
  },
  {
   "cell_type": "code",
   "execution_count": 27,
   "id": "9489c4ca",
   "metadata": {},
   "outputs": [],
   "source": [
    "caught_speeding(65,True)"
   ]
  },
  {
   "cell_type": "code",
   "execution_count": 25,
   "id": "00f9b62b",
   "metadata": {},
   "outputs": [
    {
     "data": {
      "text/plain": [
       "'Big ticket'"
      ]
     },
     "execution_count": 25,
     "metadata": {},
     "output_type": "execute_result"
    }
   ],
   "source": [
    "caught_speeding(81,False)"
   ]
  },
  {
   "cell_type": "code",
   "execution_count": null,
   "id": "35e513ce",
   "metadata": {},
   "outputs": [],
   "source": []
  }
 ],
 "metadata": {
  "kernelspec": {
   "display_name": "Python 3",
   "language": "python",
   "name": "python3"
  },
  "language_info": {
   "codemirror_mode": {
    "name": "ipython",
    "version": 3
   },
   "file_extension": ".py",
   "mimetype": "text/x-python",
   "name": "python",
   "nbconvert_exporter": "python",
   "pygments_lexer": "ipython3",
   "version": "3.8.8"
  }
 },
 "nbformat": 4,
 "nbformat_minor": 5
}
